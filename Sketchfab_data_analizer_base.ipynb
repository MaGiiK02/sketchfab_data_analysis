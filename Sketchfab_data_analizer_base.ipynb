{
  "nbformat": 4,
  "nbformat_minor": 0,
  "metadata": {
    "colab": {
      "name": "Sketchfab data analysis 25-Feb-2020",
      "provenance": [],
      "collapsed_sections": [],
      "toc_visible": true
    },
    "kernelspec": {
      "name": "python3",
      "display_name": "Python 3"
    }
  },
  "cells": [
    {
      "cell_type": "code",
      "execution_count": 2,
      "metadata": {},
      "outputs": [],
      "source": [
        "import os\n",
        "import json\n",
        "from datetime import (date, datetime, time)"
      ]
    },
    {
      "cell_type": "code",
      "execution_count": 3,
      "metadata": {},
      "outputs": [
        {
          "name": "stdout",
          "output_type": "stream",
          "text": "{\n  \"viewCount\": 1401514,\n  \"user\": {\n    \"displayName\": \"MaryRose@SwanseaUniversity\",\n    \"uid\": \"deafe07314474b30bb1e4571ab807460\",\n    \"account\": \"prem\",\n    \"profileUrl\": \"https://sketchfab.com/ncoa\",\n    \"uri\": \"https://api.sketchfab.com/v3/users/deafe07314474b30bb1e4571ab807460\",\n    \"username\": \"ncoa\",\n    \"avatar\": {\n      \"uri\": \"https://api.sketchfab.com/v3/avatars/3ef1bd11d3eb4b57a0b353e8f2e5fc3e\",\n      \"images\": [\n        {\n          \"width\": 32,\n          \"size\": 680,\n          \"url\": \"https://media.sketchfab.com/avatars/3ef1bd11d3eb4b57a0b353e8f2e5fc3e/116042a0854e40538adab302b593683d.jpeg\",\n          \"height\": 32\n        },\n        {\n          \"width\": 48,\n          \"size\": 1253,\n          \"url\": \"https://media.sketchfab.com/avatars/3ef1bd11d3eb4b57a0b353e8f2e5fc3e/efea16be51d04eb7a00cb9ea0b43b87f.jpeg\",\n          \"height\": 48\n        },\n        {\n          \"width\": 90,\n          \"size\": 2797,\n          \"url\": \"https://media.sketchfab.com/avatars/3ef1bd11d3eb4b57a0b353e8f2e5fc3e/ac9b469ccec74caf923a81fb2f0be3ed.jpeg\",\n          \"height\": 90\n        },\n        {\n          \"width\": 100,\n          \"size\": 3215,\n          \"url\": \"https://media.sketchfab.com/avatars/3ef1bd11d3eb4b57a0b353e8f2e5fc3e/a075e1d43d2f446c949b5967b470c757.jpeg\",\n          \"height\": 100\n        }\n      ]\n    }\n  },\n  \"viewerUrl\": \"https://sketchfab.com/3d-models/4b1ad3107de049f6af2c6d77f0113b56\",\n  \"commentCount\": 11,\n  \"tags\": [\n    {\n      \"slug\": \"shipwreck\",\n      \"name\": \"shipwreck\",\n      \"uri\": \"https://api.sketchfab.com/v3/tags/shipwreck\"\n    },\n    {\n      \"slug\": \"maryrose\",\n      \"name\": \"maryrose\",\n      \"uri\": \"https://api.sketchfab.com/v3/tags/maryrose\"\n    },\n    {\n      \"slug\": \"osteology\",\n      \"name\": \"osteology\",\n      \"uri\": \"https://api.sketchfab.com/v3/tags/osteology\"\n    },\n    {\n      \"slug\": \"henryviii\",\n      \"name\": \"henryviii\",\n      \"uri\": \"https://api.sketchfab.com/v3/tags/henryviii\"\n    },\n    {\n      \"slug\": \"tudors\",\n      \"name\": \"tudors\",\n      \"uri\": \"https://api.sketchfab.com/v3/tags/tudors\"\n    },\n    {\n      \"slug\": \"scurvy\",\n      \"name\": \"scurvy\",\n      \"uri\": \"https://api.sketchfab.com/v3/tags/scurvy\"\n    },\n    {\n      \"slug\": \"skull\",\n      \"name\": \"skull\",\n      \"uri\": \"https://api.sketchfab.com/v3/tags/skull\"\n    },\n    {\n      \"slug\": \"history\",\n      \"name\": \"history\",\n      \"uri\": \"https://api.sketchfab.com/v3/tags/history\"\n    },\n    {\n      \"slug\": \"navy\",\n      \"name\": \"navy\",\n      \"uri\": \"https://api.sketchfab.com/v3/tags/navy\"\n    }\n  ],\n  \"embedUrl\": \"https://sketchfab.com/models/4b1ad3107de049f6af2c6d77f0113b56/embed\",\n  \"staffpickedAt\": \"2016-11-23T15:59:37.915613\",\n  \"vertexCount\": 306937,\n  \"name\": \"Mary Rose carpenter's skull\",\n  \"animationCount\": 0,\n  \"faceCount\": 613890,\n  \"description\": \"The great warship Mary Rose, Henry VIII's favorite ship, sank in battle in 1545 with a loss of almost 500 lives.  The ship sank quickly and due to the seabed conditons, the ship and thousands of artefacts were icredibly well preserved. The skull you see, was found with a body believed to be that of one of the carpenters aboard the the ship. He was found in the orlop (bottom) deck, directly below the carpenters work shop. possibly deployed during the battle to fix any damage sustained.\\n\\nAnalysis of his remains reveals that he was probably in his mid-to-late thirties. He was just over 1.72 metres tall (5ft 7 in.) and was a strong muscular man. His teeth were poor, with a build-up of tartar. An abscess in his upper jaw meant he could only chew on the right side.\\n\\nHe also had arthritis in his spine, ribs and left clavicle and a lesion across his right eyebrow which may be the result of an old wound.\\n\\nFind out more about the Mary Rose or Virtual Tudors, click below.\\n\\nwww.VirtualTudors.org\\nwww.MaryRose.org\",\n  \"isAgeRestricted\": false,\n  \"thumbnails\": {\n    \"images\": [\n      {\n        \"width\": 200,\n        \"size\": 9528,\n        \"uid\": \"c0c7f6efdf624a659c35a65aacde5a12\",\n        \"url\": \"https://media.sketchfab.com/models/4b1ad3107de049f6af2c6d77f0113b56/thumbnails/17a3f25f6ee54fcf80c078b19b490b67/200x200.jpeg\",\n        \"height\": 200\n      },\n      {\n        \"width\": 448,\n        \"size\": 23605,\n        \"uid\": \"c9477ec790824009bda37efa3595a8ae\",\n        \"url\": \"https://media.sketchfab.com/models/4b1ad3107de049f6af2c6d77f0113b56/thumbnails/17a3f25f6ee54fcf80c078b19b490b67/448x252.jpeg\",\n        \"height\": 252\n      },\n      {\n        \"width\": 640,\n        \"size\": 44923,\n        \"uid\": \"984abd14a0024b90a4705bb5166328e6\",\n        \"url\": \"https://media.sketchfab.com/models/4b1ad3107de049f6af2c6d77f0113b56/thumbnails/17a3f25f6ee54fcf80c078b19b490b67/640x360.jpeg\",\n        \"height\": 360\n      },\n      {\n        \"width\": 50,\n        \"size\": 1265,\n        \"uid\": \"1465cbdb0b324ace94192c555805ed82\",\n        \"url\": \"https://media.sketchfab.com/models/4b1ad3107de049f6af2c6d77f0113b56/thumbnails/17a3f25f6ee54fcf80c078b19b490b67/50x50.jpeg\",\n        \"height\": 50\n      },\n      {\n        \"width\": 100,\n        \"size\": 3158,\n        \"uid\": \"aea99b5397104dc0a2fe5be9e2b8ddfd\",\n        \"url\": \"https://media.sketchfab.com/models/4b1ad3107de049f6af2c6d77f0113b56/thumbnails/17a3f25f6ee54fcf80c078b19b490b67/100x100.jpeg\",\n        \"height\": 100\n      },\n      {\n        \"width\": 864,\n        \"size\": 78094,\n        \"uid\": \"95605fe18f6d4948bec8519c263a0e21\",\n        \"url\": \"https://media.sketchfab.com/models/4b1ad3107de049f6af2c6d77f0113b56/thumbnails/17a3f25f6ee54fcf80c078b19b490b67/864x486.jpeg\",\n        \"height\": 486\n      },\n      {\n        \"width\": 1024,\n        \"size\": 106049,\n        \"uid\": \"fb6ba10150ac4d53988b1be83c3af199\",\n        \"url\": \"https://media.sketchfab.com/models/4b1ad3107de049f6af2c6d77f0113b56/thumbnails/17a3f25f6ee54fcf80c078b19b490b67/1024x576.jpeg\",\n        \"height\": 576\n      }\n    ]\n  },\n  \"likeCount\": 91,\n  \"publishedAt\": \"2016-08-23T16:51:09.378793\",\n  \"createdAt\": \"2016-08-23T16:13:14.010477\",\n  \"archives\": {\n    \"gltf\": {\n      \"size\": 21811984\n    }\n  },\n  \"uid\": \"4b1ad3107de049f6af2c6d77f0113b56\",\n  \"isDownloadable\": false,\n  \"uri\": \"https://api.sketchfab.com/v3/models/4b1ad3107de049f6af2c6d77f0113b56\",\n  \"categories\": [\n    {\n      \"name\": \"cultural-heritage-history\"\n    }\n  ]\n}\n"
        }
      ],
      "source": [
        "# File Loading\n",
        "\n",
        "stringyfiedArchitecturesData = open('./Data/character-heritage-architecture/withMoreThan2000Views/architecture_models.json', encoding=\"utf8\")\n",
        "architecturesData = json.load(stringyfiedArchitecturesData)\n",
        "\n",
        "stringyfiedCharactersData = open('./Data/character-heritage-architecture/withMoreThan2000Views/characters-creatures_models.json', encoding=\"utf8\")\n",
        "charactersData = json.load(stringyfiedCharactersData)\n",
        "\n",
        "stringyfiedHeritageData = open('./Data/character-heritage-architecture/withMoreThan2000Views/cultural-heritage-history_models.json', encoding=\"utf8\")\n",
        "heritageData = json.load(stringyfiedHeritageData)\n",
        "\n",
        "#Example of a 3D object data descriptor\n",
        "print(json.dumps(heritageData[0],indent=2))"
      ]
    },
    {
      "cell_type": "code",
      "execution_count": 13,
      "metadata": {},
      "outputs": [
        {
          "data": {
            "text/html": "        <script type=\"text/javascript\">\n        window.PlotlyConfig = {MathJaxConfig: 'local'};\n        if (window.MathJax) {MathJax.Hub.Config({SVG: {font: \"STIX-Web\"}});}\n        if (typeof require !== 'undefined') {\n        require.undef(\"plotly\");\n        requirejs.config({\n            paths: {\n                'plotly': ['https://cdn.plot.ly/plotly-latest.min']\n            }\n        });\n        require(['plotly'], function(Plotly) {\n            window._Plotly = Plotly;\n        });\n        }\n        </script>\n        "
          },
          "metadata": {},
          "output_type": "display_data"
        }
      ],
      "source": [
        "import numpy as np\n",
        "import scipy as sc\n",
        "import pandas as pd\n",
        "import seaborn as sns\n",
        "from plotly.offline import download_plotlyjs, init_notebook_mode, plot, iplot\n",
        "import plotly.graph_objs as go\n",
        "import plotly.express as px\n",
        "import matplotlib.pyplot as plt\n",
        "init_notebook_mode(connected=True)"
      ]
    },
    {
      "cell_type": "code",
      "execution_count": 14,
      "metadata": {},
      "outputs": [],
      "source": [
        "usedCategories = {\n",
        "    \"undefined\": 0,\n",
        "    \"characters-creatures\": 1,\n",
        "    \"architecture\": 2,\n",
        "    \"cultural-heritage-history\": 3\n",
        "}\n",
        "\n",
        "def loadToNDimArray(modelsData, categoryCode):\n",
        "  #uid = []\n",
        "  likeCount = []\n",
        "  commentCount = []\n",
        "  viewCount = []\n",
        "  faceCount = []\n",
        "  vertexCount = []\n",
        "  category = []\n",
        "  lifetime = []\n",
        "\n",
        "  for model in modelsData:\n",
        "    #uid.append(model[\"uid\"])\n",
        "    likeCount.append(int(model[\"likeCount\"]))\n",
        "    commentCount.append(int(model[\"commentCount\"]))\n",
        "    viewCount.append(int(model[\"viewCount\"]))\n",
        "    faceCount.append(int(model[\"faceCount\"]))\n",
        "    vertexCount.append(int(model[\"vertexCount\"]))\n",
        "\n",
        "    try:\n",
        "      deltaDays = datetime(2020, 2, 25) - datetime.strptime(\n",
        "      model[\"publishedAt\"], '%Y-%m-%dT%H:%M:%S.%f')\n",
        "      lifetime.append(deltaDays.days)\n",
        "    except:\n",
        "      deltaDays = datetime(2020, 2, 25) - datetime.strptime(\n",
        "      model[\"publishedAt\"], '%Y-%m-%dT%H:%M:%S')\n",
        "      lifetime.append(deltaDays.days)\n",
        "\n",
        "    category.append(int(categoryCode))\n",
        "\n",
        "  #uid = np.array(uid) \n",
        "  likeCount = np.array(likeCount)\n",
        "  commentCount = np.array(commentCount)\n",
        "  viewCount = np.array(viewCount)\n",
        "  faceCount = np.array(faceCount)\n",
        "  vertexCount = np.array(vertexCount)\n",
        "  category = np.array(category)\n",
        "\n",
        "  return np.stack(( likeCount, commentCount, viewCount, faceCount, vertexCount,  lifetime, category), axis = 0).transpose((1,0))\n"
      ]
    },
    {
      "cell_type": "code",
      "execution_count": 15,
      "metadata": {},
      "outputs": [],
      "source": [
        "# Processing information in numpy matrix\n",
        "charactersDataTable = loadToNDimArray(charactersData, 1)\n",
        "architecturesDataTable = loadToNDimArray(architecturesData, 2)\n",
        "heritageDataTable = loadToNDimArray(heritageData, 3)"
      ]
    },
    {
      "cell_type": "code",
      "execution_count": 16,
      "metadata": {},
      "outputs": [],
      "source": [
        "dataTable = np.append(architecturesDataTable, charactersDataTable, axis=0)\n",
        "dataTable = np.append(dataTable,  heritageDataTable, axis=0)"
      ]
    },
    {
      "cell_type": "code",
      "execution_count": 17,
      "metadata": {},
      "outputs": [],
      "source": [
        "collumns = [\"Likes\", \"Comments\", \"Views\", \"FaceCount\", \"VertexCount\", \"Days\", \"Category\"] \n",
        "globalDf =  pd.DataFrame(\n",
        "    data=dataTable,\n",
        "    columns= collumns\n",
        ")\n",
        "\n",
        "charactersDf =  pd.DataFrame(\n",
        "    data=charactersDataTable,\n",
        "    columns= collumns\n",
        ")\n",
        "\n",
        "architecturesDf =  pd.DataFrame(\n",
        "    data=architecturesDataTable,\n",
        "    columns= collumns\n",
        ")\n",
        "\n",
        "heritageDf =  pd.DataFrame(\n",
        "    data=heritageDataTable,\n",
        "    columns= collumns\n",
        ")\n"
      ]
    },
    {
      "cell_type": "code",
      "execution_count": 18,
      "metadata": {},
      "outputs": [],
      "source": [
        "def appendCalculatedColumns(df):\n",
        "    df[\"LikeViewRateo\"] = df[\"Likes\"]/df[\"Views\"]\n",
        "    df[\"LikesEachDay\"] = df[\"Likes\"]/df[\"Days\"]\n",
        "    df[\"ViewsEachDay\"] = df[\"Views\"]/df[\"Days\"]\n",
        "    return df"
      ]
    },
    {
      "cell_type": "code",
      "execution_count": 19,
      "metadata": {},
      "outputs": [],
      "source": [
        "heritageDf = appendCalculatedColumns(heritageDf)\n",
        "globalDf = appendCalculatedColumns(globalDf)\n",
        "charactersDf = appendCalculatedColumns(charactersDf)\n",
        "architecturesDf = appendCalculatedColumns(architecturesDf)"
      ]
    },
    {
      "cell_type": "code",
      "execution_count": 20,
      "metadata": {},
      "outputs": [
        {
          "data": {
            "text/plain": "'\\n    Pandas dataframes:\\n        -heritageDf: contains the data relatives to the cultural and heritage category\\n        -charactersDf: contains the data relatives to the characters and creatures category\\n        -architecturesDf: contains the data relatives to the architecture category category\\n\\n    Each dataframe has the following columns:\\n        -Likes : number of likes\\n        -Comments : number of comments\\n        -Views : number of views\\n        -FaceCount : number of faces\\n        -VertexCount : number of vertex\\n        -Days : days of uptime (relative to the download date 25-Feb-2020) \\n        -Category : category identificator number (\\n            0:undefined, \\n            1:characters-creatures, \\n            2:architecture, \\n            3:cultural-heritage-history\\n        )\\n        -LikeViewRateo : Likes per views rateo ( calculated as Likes\\\\Views )\\n        -LikesEachDay : likes each day rateo ( calculated as Likes\\\\Days )\\n        -ViewsEachDay : views each day rateo ( calculated as Views\\\\Days )\\n'"
          },
          "execution_count": 20,
          "metadata": {},
          "output_type": "execute_result"
        }
      ],
      "source": [
        "'''\n",
        "    Pandas dataframes:\n",
        "        -heritageDf: contains the data relatives to the cultural and heritage category\n",
        "        -charactersDf: contains the data relatives to the characters and creatures category\n",
        "        -architecturesDf: contains the data relatives to the architecture category category\n",
        "\n",
        "    Each dataframe has the following columns:\n",
        "        -Likes : number of likes\n",
        "        -Comments : number of comments\n",
        "        -Views : number of views\n",
        "        -FaceCount : number of faces\n",
        "        -VertexCount : number of vertex\n",
        "        -Days : days of uptime (relative to the download date 25-Feb-2020) \n",
        "        -Category : category identificator number (\n",
        "            0:undefined, \n",
        "            1:characters-creatures, \n",
        "            2:architecture, \n",
        "            3:cultural-heritage-history\n",
        "        )\n",
        "        -LikeViewRateo : Likes per views rateo ( calculated as Likes\\Views )\n",
        "        -LikesEachDay : likes each day rateo ( calculated as Likes\\Days )\n",
        "        -ViewsEachDay : views each day rateo ( calculated as Views\\Days )\n",
        "'''"
      ]
    },
    {
      "cell_type": "code",
      "execution_count": null,
      "metadata": {},
      "outputs": [],
      "source": []
    }
  ]
}