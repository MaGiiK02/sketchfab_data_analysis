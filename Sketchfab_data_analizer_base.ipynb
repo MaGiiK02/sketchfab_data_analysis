{
  "nbformat": 4,
  "nbformat_minor": 0,
  "metadata": {
    "colab": {
      "name": "Sketchfab data analysis 25-Feb-2020",
      "provenance": [],
      "collapsed_sections": [],
      "toc_visible": true
    },
    "kernelspec": {
      "name": "python3",
      "display_name": "Python 3"
    }
  },
  "cells": [
    {
      "cell_type": "code",
      "execution_count": 1,
      "metadata": {},
      "outputs": [],
      "source": [
        "import os\n",
        "import json\n",
        "from datetime import (date, datetime, time)"
      ]
    },
    {
      "cell_type": "code",
      "execution_count": 2,
      "metadata": {},
      "outputs": [
        {
          "name": "stdout",
          "output_type": "stream",
          "text": "2016-08-23T16:51:09.378793\n"
        }
      ],
      "source": [
        "# File Loading\n",
        "\n",
        "stringyfiedArchitecturesData = open('./Data/architecture_models.json', encoding=\"utf8\")\n",
        "architecturesData = json.load(stringyfiedArchitecturesData)\n",
        "\n",
        "stringyfiedCharactersData = open('./Data/characters-creatures_models.json', encoding=\"utf8\")\n",
        "charactersData = json.load(stringyfiedCharactersData)\n",
        "\n",
        "stringyfiedHeritageData = open('./Data/cultural-heritage-history_models.json',encoding=\"utf8\")\n",
        "heritageData = json.load(stringyfiedHeritageData)\n",
        "\n",
        "#Example of a 3D object data descriptor\n",
        "print(heritageData[0]['publishedAt'])"
      ]
    },
    {
      "cell_type": "code",
      "execution_count": 3,
      "metadata": {},
      "outputs": [
        {
          "data": {
            "text/html": "        <script type=\"text/javascript\">\n        window.PlotlyConfig = {MathJaxConfig: 'local'};\n        if (window.MathJax) {MathJax.Hub.Config({SVG: {font: \"STIX-Web\"}});}\n        if (typeof require !== 'undefined') {\n        require.undef(\"plotly\");\n        requirejs.config({\n            paths: {\n                'plotly': ['https://cdn.plot.ly/plotly-latest.min']\n            }\n        });\n        require(['plotly'], function(Plotly) {\n            window._Plotly = Plotly;\n        });\n        }\n        </script>\n        "
          },
          "metadata": {},
          "output_type": "display_data"
        }
      ],
      "source": [
        "import numpy as np\n",
        "import scipy as sc\n",
        "import pandas as pd\n",
        "import seaborn as sns\n",
        "from plotly.offline import download_plotlyjs, init_notebook_mode, plot, iplot\n",
        "import plotly.graph_objs as go\n",
        "import plotly.express as px\n",
        "import matplotlib.pyplot as plt\n",
        "init_notebook_mode(connected=True)"
      ]
    },
    {
      "cell_type": "code",
      "execution_count": 4,
      "metadata": {},
      "outputs": [],
      "source": [
        "usedCategories = {\n",
        "    \"undefined\": 0,\n",
        "    \"characters-creatures\": 1,\n",
        "    \"architecture\": 2,\n",
        "    \"cultural-heritage-history\": 3\n",
        "}\n",
        "\n",
        "def loadToNDimArray(modelsData, categoryCode):\n",
        "  #uid = []\n",
        "  likeCount = []\n",
        "  commentCount = []\n",
        "  viewCount = []\n",
        "  faceCount = []\n",
        "  vertexCount = []\n",
        "  category = []\n",
        "  lifetime = []\n",
        "\n",
        "  for model in modelsData:\n",
        "    #uid.append(model[\"uid\"])\n",
        "    likeCount.append(int(model[\"likeCount\"]))\n",
        "    commentCount.append(int(model[\"commentCount\"]))\n",
        "    viewCount.append(int(model[\"viewCount\"]))\n",
        "    faceCount.append(int(model[\"faceCount\"]))\n",
        "    vertexCount.append(int(model[\"vertexCount\"]))\n",
        "\n",
        "    try:\n",
        "      deltaDays = datetime(2020, 2, 25) - datetime.strptime(\n",
        "      model[\"publishedAt\"], '%Y-%m-%dT%H:%M:%S.%f')\n",
        "      lifetime.append(deltaDays.days)\n",
        "    except:\n",
        "      deltaDays = datetime(2020, 2, 25) - datetime.strptime(\n",
        "      model[\"publishedAt\"], '%Y-%m-%dT%H:%M:%S')\n",
        "      lifetime.append(deltaDays.days)\n",
        "\n",
        "    category.append(int(categoryCode))\n",
        "\n",
        "  #uid = np.array(uid) \n",
        "  likeCount = np.array(likeCount)\n",
        "  commentCount = np.array(commentCount)\n",
        "  viewCount = np.array(viewCount)\n",
        "  faceCount = np.array(faceCount)\n",
        "  vertexCount = np.array(vertexCount)\n",
        "  category = np.array(category)\n",
        "\n",
        "  return np.stack(( likeCount, commentCount, viewCount, faceCount, vertexCount,  lifetime, category), axis = 0).transpose((1,0))\n"
      ]
    },
    {
      "cell_type": "code",
      "execution_count": 5,
      "metadata": {},
      "outputs": [],
      "source": [
        "# Processing information in numpy matrix\n",
        "charactersDataTable = loadToNDimArray(charactersData, 1)\n",
        "architecturesDataTable = loadToNDimArray(architecturesData, 2)\n",
        "heritageDataTable = loadToNDimArray(heritageData, 3)"
      ]
    },
    {
      "cell_type": "code",
      "execution_count": 6,
      "metadata": {},
      "outputs": [],
      "source": [
        "dataTable = np.append(architecturesDataTable, charactersDataTable, axis=0)\n",
        "dataTable = np.append(dataTable,  heritageDataTable, axis=0)"
      ]
    },
    {
      "cell_type": "code",
      "execution_count": 7,
      "metadata": {},
      "outputs": [],
      "source": [
        "collumns = [\"Likes\", \"Comments\", \"Views\", \"FaceCount\", \"VertexCount\", \"Days\", \"Category\"] \n",
        "globalDf =  pd.DataFrame(\n",
        "    data=dataTable,\n",
        "    columns= collumns\n",
        ")\n",
        "\n",
        "charactersDf =  pd.DataFrame(\n",
        "    data=charactersDataTable,\n",
        "    columns= collumns\n",
        ")\n",
        "\n",
        "architecturesDf =  pd.DataFrame(\n",
        "    data=architecturesDataTable,\n",
        "    columns= collumns\n",
        ")\n",
        "\n",
        "heritageDf =  pd.DataFrame(\n",
        "    data=heritageDataTable,\n",
        "    columns= collumns\n",
        ")\n"
      ]
    },
    {
      "cell_type": "code",
      "execution_count": 8,
      "metadata": {},
      "outputs": [],
      "source": [
        "def appendCalculatedColumns(df):\n",
        "    df[\"LikeViewRateo\"] = df[\"Likes\"]/df[\"Views\"]\n",
        "    df[\"LikesEachDay\"] = df[\"Likes\"]/df[\"Days\"]\n",
        "    df[\"ViewsEachDay\"] = df[\"Views\"]/df[\"Days\"]\n",
        "    return df"
      ]
    },
    {
      "cell_type": "code",
      "execution_count": 9,
      "metadata": {},
      "outputs": [],
      "source": [
        "heritageDf = appendCalculatedColumns(heritageDf)\n",
        "globalDf = appendCalculatedColumns(globalDf)\n",
        "charactersDf = appendCalculatedColumns(charactersDf)\n",
        "architecturesDf = appendCalculatedColumns(architecturesDf)"
      ]
    },
    {
      "cell_type": "code",
      "execution_count": 10,
      "metadata": {},
      "outputs": [
        {
          "data": {
            "text/plain": "'\\n    Pandas dataframes:\\n        -heritageDf: contains the data relatives to the cultural and heritage category\\n        -charactersDf: contains the data relatives to the characters and creatures category\\n        -architecturesDf: contains the data relatives to the architecture category category\\n\\n    Each dataframe has the following columns:\\n        -Likes : number of likes\\n        -Comments : number of comments\\n        -Views : number of views\\n        -FaceCount : number of faces\\n        -VertexCount : number of vertex\\n        -Days : days of uptime (relative to the download date 25-Feb-2020) \\n        -Category : category identificator number (\\n            0:undefined, \\n            1:characters-creatures, \\n            2:architecture, \\n            3:cultural-heritage-history\\n        )\\n        -LikesViewsRateo : Likes per views rateo ( calculated as Likes\\\\Views )\\n        -LikesEachDay : likes each day rateo ( calculated as Likes\\\\Days )\\n        -ViewsEachDay : views each day rateo ( calculated as Views\\\\Days )\\n'"
          },
          "execution_count": 10,
          "metadata": {},
          "output_type": "execute_result"
        }
      ],
      "source": [
        "'''\n",
        "    Pandas dataframes:\n",
        "        -heritageDf: contains the data relatives to the cultural and heritage category\n",
        "        -charactersDf: contains the data relatives to the characters and creatures category\n",
        "        -architecturesDf: contains the data relatives to the architecture category category\n",
        "\n",
        "    Each dataframe has the following columns:\n",
        "        -Likes : number of likes\n",
        "        -Comments : number of comments\n",
        "        -Views : number of views\n",
        "        -FaceCount : number of faces\n",
        "        -VertexCount : number of vertex\n",
        "        -Days : days of uptime (relative to the download date 25-Feb-2020) \n",
        "        -Category : category identificator number (\n",
        "            0:undefined, \n",
        "            1:characters-creatures, \n",
        "            2:architecture, \n",
        "            3:cultural-heritage-history\n",
        "        )\n",
        "        -LikesViewsRateo : Likes per views rateo ( calculated as Likes\\Views )\n",
        "        -LikesEachDay : likes each day rateo ( calculated as Likes\\Days )\n",
        "        -ViewsEachDay : views each day rateo ( calculated as Views\\Days )\n",
        "'''"
      ]
    },
    {
      "cell_type": "code",
      "execution_count": null,
      "metadata": {},
      "outputs": [],
      "source": []
    }
  ]
}