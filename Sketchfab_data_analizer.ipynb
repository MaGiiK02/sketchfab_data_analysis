{
  "nbformat": 4,
  "nbformat_minor": 0,
  "metadata": {
    "colab": {
      "name": "Sketchfab data analysis 25-Feb-2020",
      "provenance": [],
      "collapsed_sections": [],
      "toc_visible": true
    },
    "kernelspec": {
      "name": "python3",
      "display_name": "Python 3"
    }
  },
  "cells": [
    {
      "cell_type": "code",
      "execution_count": null,
      "metadata": {},
      "outputs": [],
      "source": [
        "import os\n",
        "import json\n",
        "from datetime import (date, datetime, time)"
      ]
    },
    {
      "cell_type": "code",
      "execution_count": null,
      "metadata": {},
      "outputs": [],
      "source": [
        "os.chdir('./Data')"
      ]
    },
    {
      "cell_type": "code",
      "execution_count": 51,
      "metadata": {},
      "outputs": [
        {
          "name": "stdout",
          "output_type": "stream",
          "text": "2016-08-23T16:51:09.378793\n"
        }
      ],
      "source": [
        "\n",
        "\n",
        "stringyfiedArchitecturesData = open('architecture_models.json', encoding=\"utf8\")\n",
        "architecturesData = json.load(stringyfiedArchitecturesData)\n",
        "\n",
        "stringyfiedCharactersData = open('characters-creatures_models.json', encoding=\"utf8\")\n",
        "charactersData = json.load(stringyfiedCharactersData)\n",
        "\n",
        "stringyfiedHeritageData = open('cultural-heritage-history_models.json',encoding=\"utf8\")\n",
        "heritageData = json.load(stringyfiedHeritageData)\n",
        "\n",
        "#Example of a 3D object data descriptor\n",
        "print(heritageData[0]['publishedAt'])"
      ]
    },
    {
      "cell_type": "code",
      "execution_count": null,
      "metadata": {},
      "outputs": [],
      "source": [
        "import numpy as np\n",
        "import scipy as sc\n",
        "import pandas as pd\n",
        "import seaborn as sns\n",
        "from plotly.offline import download_plotlyjs, init_notebook_mode, plot, iplot\n",
        "import plotly.graph_objs as go\n",
        "import plotly.express as px\n",
        "import matplotlib.pyplot as plt\n",
        "init_notebook_mode(connected=True)"
      ]
    },
    {
      "cell_type": "code",
      "execution_count": 59,
      "metadata": {},
      "outputs": [],
      "source": [
        "usedCategories = {\n",
        "    \"undefined\": 0,\n",
        "    \"characters-creatures\": 1,\n",
        "    \"architecture\": 2,\n",
        "    \"cultural-heritage-history\": 3\n",
        "}\n",
        "\n",
        "def loadToNDimArray(modelsData, categoryCode):\n",
        "  #uid = []\n",
        "  likeCount = []\n",
        "  commentCount = []\n",
        "  viewCount = []\n",
        "  faceCount = []\n",
        "  vertexCount = []\n",
        "  category = []\n",
        "  lifetime = []\n",
        "\n",
        "  for model in modelsData:\n",
        "    #uid.append(model[\"uid\"])\n",
        "    likeCount.append(int(model[\"likeCount\"]))\n",
        "    commentCount.append(int(model[\"commentCount\"]))\n",
        "    viewCount.append(int(model[\"viewCount\"]))\n",
        "    faceCount.append(int(model[\"faceCount\"]))\n",
        "    vertexCount.append(int(model[\"vertexCount\"]))\n",
        "\n",
        "    try:\n",
        "      deltaDays = datetime(2020, 2, 25) - datetime.strptime(\n",
        "      model[\"publishedAt\"], '%Y-%m-%dT%H:%M:%S.%f')\n",
        "      lifetime.append(deltaDays.days)\n",
        "    except:\n",
        "      deltaDays = datetime(2020, 2, 25) - datetime.strptime(\n",
        "      model[\"publishedAt\"], '%Y-%m-%dT%H:%M:%S')\n",
        "      lifetime.append(deltaDays.days)\n",
        "\n",
        "    category.append(int(categoryCode))\n",
        "\n",
        "  #uid = np.array(uid) \n",
        "  likeCount = np.array(likeCount)\n",
        "  commentCount = np.array(commentCount)\n",
        "  viewCount = np.array(viewCount)\n",
        "  faceCount = np.array(faceCount)\n",
        "  vertexCount = np.array(vertexCount)\n",
        "  category = np.array(category)\n",
        "\n",
        "  return np.stack(( likeCount, commentCount, viewCount, faceCount, vertexCount,  lifetime, category), axis = 0).transpose((1,0))\n"
      ]
    },
    {
      "cell_type": "code",
      "execution_count": 60,
      "metadata": {},
      "outputs": [],
      "source": [
        "# Processing information in numpy matrix\n",
        "charactersDataTable = loadToNDimArray(charactersData, 1)\n",
        "architecturesDataTable = loadToNDimArray(architecturesData, 2)\n",
        "heritageDataTable = loadToNDimArray(heritageData, 3)"
      ]
    },
    {
      "cell_type": "code",
      "execution_count": 56,
      "metadata": {},
      "outputs": [],
      "source": [
        "dataTable = np.append(architecturesDataTable, charactersDataTable, axis=0)\n",
        "dataTable = np.append(dataTable,  heritageDataTable, axis=0)"
      ]
    },
    {
      "cell_type": "code",
      "execution_count": 57,
      "metadata": {},
      "outputs": [],
      "source": [
        "globalDf =  pd.DataFrame(\n",
        "    data=dataTable,\n",
        "    columns= [\"Likes\", \"Comments\", \"Views\", \"FaceCount\", \"VertexCount\", \"Category\"] \n",
        ")\n",
        "globalDf[\"Category\"] = globalDf['Category'].apply(np.int64)\n",
        "\n",
        "charactersDf =  pd.DataFrame(\n",
        "    data=charactersDataTable,\n",
        "    columns= [\"Likes\", \"Comments\", \"Views\", \"FaceCount\", \"VertexCount\", \"Category\"] \n",
        ")\n",
        "charactersDf[\"Category\"] = charactersDf['Category'].apply(np.int64)\n",
        "\n",
        "architecturesDf =  pd.DataFrame(\n",
        "    data=architecturesDataTable,\n",
        "    columns= [\"Likes\", \"Comments\", \"Views\", \"FaceCount\", \"VertexCount\", \"Category\"] \n",
        ")\n",
        "architecturesDf[\"Category\"] = architecturesDf['Category'].apply(np.int64)\n",
        "\n",
        "heritageDf =  pd.DataFrame(\n",
        "    data=heritageDataTable,\n",
        "    columns= [\"Likes\", \"Comments\", \"Views\", \"FaceCount\", \"VertexCount\", \"Category\"] \n",
        ")\n",
        "heritageDf[\"Category\"] = heritageDf[\"Category\"].apply(np.int64)\n"
      ]
    },
    {
      "cell_type": "code",
      "execution_count": null,
      "metadata": {},
      "outputs": [],
      "source": [
        "#Dataframe tools\n",
        "def appendCalculatedColumns(df):\n",
        "    df[\"LikeViewRateo\"] = df[\"Likes\"]/df[\"Views\"]\n",
        "    return df"
      ]
    },
    {
      "cell_type": "code",
      "execution_count": null,
      "metadata": {},
      "outputs": [],
      "source": [
        "heritageDf = appendCalculatedColumns(heritageDf)\n",
        "globalDf = appendCalculatedColumns(globalDf)\n",
        "charactersDf = appendCalculatedColumns(charactersDf)\n",
        "architecturesDf = appendCalculatedColumns(architecturesDf)"
      ]
    },
    {
      "cell_type": "code",
      "execution_count": null,
      "metadata": {},
      "outputs": [],
      "source": [
        "#Data are ready to be processed\n",
        "px.scatter(\n",
        "    charactersDf,\n",
        "    x='Views',\n",
        "    y='Likes',\n",
        ")"
      ]
    },
    {
      "cell_type": "code",
      "execution_count": null,
      "metadata": {},
      "outputs": [],
      "source": [
        "#Data are ready to be processed\n",
        "px.scatter(\n",
        "    architecturesDf,\n",
        "    x='Views',\n",
        "    y='Likes',\n",
        ")"
      ]
    },
    {
      "cell_type": "code",
      "execution_count": null,
      "metadata": {},
      "outputs": [],
      "source": [
        "px.scatter(\n",
        "    heritageDf,\n",
        "    x='Views',\n",
        "    y='Likes',\n",
        ")"
      ]
    },
    {
      "cell_type": "code",
      "execution_count": null,
      "metadata": {},
      "outputs": [],
      "source": [
        "print(json.dumps(usedCategories,indent=2))\n",
        "px.scatter(globalDf,\n",
        "    x=\"Views\",\n",
        "    y=\"Likes\",\n",
        "    color=\"Category\",   \n",
        ")"
      ]
    },
    {
      "cell_type": "code",
      "execution_count": 58,
      "metadata": {},
      "outputs": [
        {
          "data": {
            "text/html": "<div>\n<style scoped>\n    .dataframe tbody tr th:only-of-type {\n        vertical-align: middle;\n    }\n\n    .dataframe tbody tr th {\n        vertical-align: top;\n    }\n\n    .dataframe thead th {\n        text-align: right;\n    }\n</style>\n<table border=\"1\" class=\"dataframe\">\n  <thead>\n    <tr style=\"text-align: right;\">\n      <th></th>\n      <th>Likes</th>\n      <th>Comments</th>\n      <th>Views</th>\n      <th>FaceCount</th>\n      <th>VertexCount</th>\n      <th>Category</th>\n    </tr>\n  </thead>\n  <tbody>\n    <tr>\n      <th>count</th>\n      <td>1301.000000</td>\n      <td>1301.000000</td>\n      <td>1301.000000</td>\n      <td>1.301000e+03</td>\n      <td>1.301000e+03</td>\n      <td>1301.0</td>\n    </tr>\n    <tr>\n      <th>mean</th>\n      <td>370.511914</td>\n      <td>13.614143</td>\n      <td>20846.899308</td>\n      <td>1.779617e+05</td>\n      <td>1.064341e+05</td>\n      <td>1.0</td>\n    </tr>\n    <tr>\n      <th>std</th>\n      <td>429.168003</td>\n      <td>16.328840</td>\n      <td>33792.651004</td>\n      <td>3.867141e+05</td>\n      <td>2.282516e+05</td>\n      <td>0.0</td>\n    </tr>\n    <tr>\n      <th>min</th>\n      <td>0.000000</td>\n      <td>0.000000</td>\n      <td>7633.000000</td>\n      <td>1.000000e+01</td>\n      <td>2.460000e+02</td>\n      <td>1.0</td>\n    </tr>\n    <tr>\n      <th>25%</th>\n      <td>114.000000</td>\n      <td>4.000000</td>\n      <td>9444.000000</td>\n      <td>1.183600e+04</td>\n      <td>7.667000e+03</td>\n      <td>1.0</td>\n    </tr>\n    <tr>\n      <th>50%</th>\n      <td>240.000000</td>\n      <td>9.000000</td>\n      <td>12785.000000</td>\n      <td>3.463000e+04</td>\n      <td>2.262600e+04</td>\n      <td>1.0</td>\n    </tr>\n    <tr>\n      <th>75%</th>\n      <td>470.000000</td>\n      <td>18.000000</td>\n      <td>20679.000000</td>\n      <td>1.502930e+05</td>\n      <td>9.529200e+04</td>\n      <td>1.0</td>\n    </tr>\n    <tr>\n      <th>max</th>\n      <td>3871.000000</td>\n      <td>175.000000</td>\n      <td>578349.000000</td>\n      <td>4.866654e+06</td>\n      <td>2.687187e+06</td>\n      <td>1.0</td>\n    </tr>\n  </tbody>\n</table>\n</div>",
            "text/plain": "             Likes     Comments          Views     FaceCount   VertexCount  \\\ncount  1301.000000  1301.000000    1301.000000  1.301000e+03  1.301000e+03   \nmean    370.511914    13.614143   20846.899308  1.779617e+05  1.064341e+05   \nstd     429.168003    16.328840   33792.651004  3.867141e+05  2.282516e+05   \nmin       0.000000     0.000000    7633.000000  1.000000e+01  2.460000e+02   \n25%     114.000000     4.000000    9444.000000  1.183600e+04  7.667000e+03   \n50%     240.000000     9.000000   12785.000000  3.463000e+04  2.262600e+04   \n75%     470.000000    18.000000   20679.000000  1.502930e+05  9.529200e+04   \nmax    3871.000000   175.000000  578349.000000  4.866654e+06  2.687187e+06   \n\n       Category  \ncount    1301.0  \nmean        1.0  \nstd         0.0  \nmin         1.0  \n25%         1.0  \n50%         1.0  \n75%         1.0  \nmax         1.0  "
          },
          "execution_count": 58,
          "metadata": {},
          "output_type": "execute_result"
        }
      ],
      "source": [
        "charactersDf.describe()"
      ]
    },
    {
      "cell_type": "code",
      "execution_count": null,
      "metadata": {},
      "outputs": [],
      "source": [
        "globalDf[globalDf.Views <= 200000].describe()"
      ]
    },
    {
      "cell_type": "code",
      "execution_count": null,
      "metadata": {},
      "outputs": [],
      "source": [
        "globalDf[globalDf.Views <= 50000].describe()"
      ]
    },
    {
      "cell_type": "code",
      "execution_count": null,
      "metadata": {},
      "outputs": [],
      "source": [
        "architecturesDf.describe()"
      ]
    },
    {
      "cell_type": "code",
      "execution_count": null,
      "metadata": {},
      "outputs": [],
      "source": [
        "heritageDf.describe()"
      ]
    },
    {
      "cell_type": "code",
      "execution_count": null,
      "metadata": {},
      "outputs": [],
      "source": [
        "globalDf.describe()"
      ]
    }
  ]
}