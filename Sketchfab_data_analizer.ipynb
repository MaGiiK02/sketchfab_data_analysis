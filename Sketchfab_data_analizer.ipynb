{
  "nbformat": 4,
  "nbformat_minor": 0,
  "metadata": {
    "colab": {
      "name": "Sketchfab data analysis 25-Feb-2020",
      "provenance": [],
      "collapsed_sections": [],
      "toc_visible": true
    },
    "kernelspec": {
      "name": "python3",
      "display_name": "Python 3"
    }
  },
  "cells": [
    {
      "cell_type": "code",
      "execution_count": null,
      "metadata": {},
      "outputs": [],
      "source": [
        "import os\n",
        "import json"
      ]
    },
    {
      "cell_type": "code",
      "execution_count": null,
      "metadata": {},
      "outputs": [],
      "source": [
        "os.chdir('./Data')"
      ]
    },
    {
      "cell_type": "code",
      "execution_count": null,
      "metadata": {},
      "outputs": [],
      "source": [
        "\n",
        "\n",
        "stringyfiedArchitecturesData = open('architecture_models.json', encoding=\"utf8\")\n",
        "architecturesData = json.load(stringyfiedArchitecturesData)\n",
        "\n",
        "stringyfiedCharactersData = open('characters-creatures_models.json', encoding=\"utf8\")\n",
        "charactersData = json.load(stringyfiedCharactersData)\n",
        "\n",
        "stringyfiedHeritageData = open('cultural-heritage-history_models.json',encoding=\"utf8\")\n",
        "heritageData = json.load(stringyfiedHeritageData)\n",
        "\n",
        "#Example of a 3D object data descriptor\n",
        "#print(json.dumps(architecturesDatas[0], indent=2))"
      ]
    },
    {
      "cell_type": "code",
      "execution_count": null,
      "metadata": {},
      "outputs": [],
      "source": [
        "import numpy as np\n",
        "import scipy as sc\n",
        "import pandas as pd\n",
        "import seaborn as sns\n",
        "from plotly.offline import download_plotlyjs, init_notebook_mode, plot, iplot\n",
        "import plotly.graph_objs as go\n",
        "import plotly.express as px\n",
        "import matplotlib.pyplot as plt\n",
        "init_notebook_mode(connected=True)"
      ]
    },
    {
      "cell_type": "code",
      "execution_count": null,
      "metadata": {},
      "outputs": [],
      "source": [
        "usedCategories = {\n",
        "    \"undefined\": 0,\n",
        "    \"characters-creatures\": 1,\n",
        "    \"architecture\": 2,\n",
        "    \"cultural-heritage-history\": 3\n",
        "}\n",
        "\n",
        "def loadToNDimArray(modelsData, categoryCode):\n",
        "  #uid = []\n",
        "  likeCount = []\n",
        "  commentCount = []\n",
        "  viewCount = []\n",
        "  faceCount = []\n",
        "  vertexCount = []\n",
        "  category = []\n",
        "\n",
        "  for model in modelsData:\n",
        "    #uid.append(model[\"uid\"])\n",
        "    likeCount.append(int(model[\"likeCount\"]))\n",
        "    commentCount.append(int(model[\"commentCount\"]))\n",
        "    viewCount.append(int(model[\"viewCount\"]))\n",
        "    faceCount.append(int(model[\"faceCount\"]))\n",
        "    vertexCount.append(int(model[\"vertexCount\"]))\n",
        "    category.append(int(categoryCode))\n",
        "\n",
        "  #uid = np.array(uid) \n",
        "  likeCount = np.array(likeCount)\n",
        "  commentCount = np.array(commentCount)\n",
        "  viewCount = np.array(viewCount)\n",
        "  faceCount = np.array(faceCount)\n",
        "  vertexCount = np.array(vertexCount)\n",
        "  category = np.array(category)\n",
        "\n",
        "  return np.stack(( likeCount, commentCount, viewCount, faceCount, vertexCount, category), axis = 0).transpose((1,0))\n"
      ]
    },
    {
      "cell_type": "code",
      "execution_count": null,
      "metadata": {},
      "outputs": [],
      "source": [
        "# Processing information in numpy matrix\n",
        "charactersDataTable = loadToNDimArray(charactersData, 1)\n",
        "architecturesDataTable = loadToNDimArray(architecturesData, 2)\n",
        "heritageDataTable = loadToNDimArray(heritageData, 3)"
      ]
    },
    {
      "cell_type": "code",
      "execution_count": null,
      "metadata": {},
      "outputs": [],
      "source": [
        "dataTable = np.append(architecturesDataTable, charactersDataTable, axis=0)\n",
        "dataTable = np.append(dataTable,  heritageDataTable, axis=0)"
      ]
    },
    {
      "cell_type": "code",
      "execution_count": null,
      "metadata": {},
      "outputs": [],
      "source": [
        "globalDf =  pd.DataFrame(\n",
        "    data=dataTable,\n",
        "    columns= [\"Likes\", \"Comments\", \"Views\", \"FaceCount\", \"VertexCount\", \"Category\"] \n",
        ")\n",
        "globalDf[\"Category\"] = globalDf['Category'].apply(np.int64)\n",
        "\n",
        "charactersDf =  pd.DataFrame(\n",
        "    data=charactersDataTable,\n",
        "    columns= [\"Likes\", \"Comments\", \"Views\", \"FaceCount\", \"VertexCount\", \"Category\"] \n",
        ")\n",
        "charactersDf[\"Category\"] = charactersDf['Category'].apply(np.int64)\n",
        "\n",
        "architecturesDf =  pd.DataFrame(\n",
        "    data=architecturesDataTable,\n",
        "    columns= [\"Likes\", \"Comments\", \"Views\", \"FaceCount\", \"VertexCount\", \"Category\"] \n",
        ")\n",
        "architecturesDf[\"Category\"] = architecturesDf['Category'].apply(np.int64)\n",
        "\n",
        "heritageDf =  pd.DataFrame(\n",
        "    data=heritageDataTable,\n",
        "    columns= [\"Likes\", \"Comments\", \"Views\", \"FaceCount\", \"VertexCount\", \"Category\"] \n",
        ")\n",
        "heritageDf[\"Category\"] = heritageDf[\"Category\"].apply(np.int64)\n"
      ]
    },
    {
      "cell_type": "code",
      "execution_count": null,
      "metadata": {},
      "outputs": [],
      "source": [
        "#Data are ready to be processed\n",
        "px.scatter(\n",
        "    charactersDf,\n",
        "    x='Views',\n",
        "    y='Likes',\n",
        ")"
      ]
    },
    {
      "cell_type": "code",
      "execution_count": null,
      "metadata": {},
      "outputs": [],
      "source": [
        "#Data are ready to be processed\n",
        "px.scatter(\n",
        "    architecturesDf,\n",
        "    x='Views',\n",
        "    y='Likes',\n",
        ")"
      ]
    },
    {
      "cell_type": "code",
      "execution_count": null,
      "metadata": {},
      "outputs": [],
      "source": [
        "px.scatter(\n",
        "    heritageDf,\n",
        "    x='Views',\n",
        "    y='Likes',\n",
        ")"
      ]
    },
    {
      "cell_type": "code",
      "execution_count": null,
      "metadata": {},
      "outputs": [],
      "source": [
        "print(json.dumps(usedCategories,indent=2))\n",
        "px.scatter(globalDf,\n",
        "    x=\"Views\",\n",
        "    y=\"Likes\",\n",
        "    color=\"Category\",   \n",
        ")"
      ]
    },
    {
      "cell_type": "code",
      "execution_count": null,
      "metadata": {},
      "outputs": [],
      "source": [
        "charactersDf.describe()"
      ]
    },
    {
      "cell_type": "code",
      "execution_count": null,
      "metadata": {},
      "outputs": [],
      "source": [
        "globalDf[globalDf.Views <= 200000].describe()"
      ]
    },
    {
      "cell_type": "code",
      "execution_count": null,
      "metadata": {},
      "outputs": [],
      "source": [
        "globalDf[globalDf.Views <= 50000].describe()"
      ]
    },
    {
      "cell_type": "code",
      "execution_count": null,
      "metadata": {},
      "outputs": [],
      "source": [
        "architecturesDf.describe()"
      ]
    },
    {
      "cell_type": "code",
      "execution_count": null,
      "metadata": {},
      "outputs": [],
      "source": [
        "heritageDf.describe()"
      ]
    },
    {
      "cell_type": "code",
      "execution_count": null,
      "metadata": {},
      "outputs": [],
      "source": [
        "globalDf.describe()"
      ]
    }
  ]
}